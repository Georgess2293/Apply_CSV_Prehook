{
 "cells": [
  {
   "cell_type": "code",
   "execution_count": 1,
   "metadata": {},
   "outputs": [],
   "source": [
    "import database_handler\n",
    "import prehook\n",
    "from lookups import InputTypes"
   ]
  },
  {
   "cell_type": "code",
   "execution_count": 3,
   "metadata": {},
   "outputs": [
    {
     "data": {
      "text/plain": [
       "['Dataset-main\\\\Dim Customer.csv',\n",
       " 'Dataset-main\\\\Dim Location.csv',\n",
       " 'Dataset-main\\\\Dim Product.csv',\n",
       " 'Dataset-main\\\\Dim SalesPerson.csv',\n",
       " 'Dataset-main\\\\Fact Purchase.csv']"
      ]
     },
     "execution_count": 3,
     "metadata": {},
     "output_type": "execute_result"
    }
   ],
   "source": [
    "prehook.return_csv_file_directories(\"Dataset-main\")"
   ]
  },
  {
   "cell_type": "code",
   "execution_count": 4,
   "metadata": {},
   "outputs": [
    {
     "ename": "IndexError",
     "evalue": "list index out of range",
     "output_type": "error",
     "traceback": [
      "\u001b[1;31m---------------------------------------------------------------------------\u001b[0m",
      "\u001b[1;31mIndexError\u001b[0m                                Traceback (most recent call last)",
      "\u001b[1;32mc:\\Users\\lenovo\\Desktop\\SE_Factory\\Apply_CSV_Prehook\\main.ipynb Cell 3\u001b[0m line \u001b[0;36m1\n\u001b[1;32m----> <a href='vscode-notebook-cell:/c%3A/Users/lenovo/Desktop/SE_Factory/Apply_CSV_Prehook/main.ipynb#X12sZmlsZQ%3D%3D?line=0'>1</a>\u001b[0m prehook\u001b[39m.\u001b[39;49mget_table_name_from_csv(\u001b[39m'\u001b[39;49m\u001b[39mDim Customer.csv\u001b[39;49m\u001b[39m'\u001b[39;49m)\n",
      "File \u001b[1;32mc:\\Users\\lenovo\\Desktop\\SE_Factory\\Apply_CSV_Prehook\\prehook.py:29\u001b[0m, in \u001b[0;36mget_table_name_from_csv\u001b[1;34m(csv_file_directory_path)\u001b[0m\n\u001b[0;32m     28\u001b[0m \u001b[39mdef\u001b[39;00m \u001b[39mget_table_name_from_csv\u001b[39m(csv_file_directory_path):\n\u001b[1;32m---> 29\u001b[0m     table_name\u001b[39m=\u001b[39m(csv_file_directory_path\u001b[39m.\u001b[39;49msplit(\u001b[39m'\u001b[39;49m\u001b[39m\\\\\u001b[39;49;00m\u001b[39m'\u001b[39;49m)[\u001b[39m1\u001b[39;49m])\u001b[39m.\u001b[39msplit(\u001b[39m'\u001b[39m\u001b[39m.\u001b[39m\u001b[39m'\u001b[39m)[\u001b[39m0\u001b[39m]\u001b[39m.\u001b[39mreplace(\u001b[39m'\u001b[39m\u001b[39m \u001b[39m\u001b[39m'\u001b[39m,\u001b[39m'\u001b[39m\u001b[39m_\u001b[39m\u001b[39m'\u001b[39m)\n\u001b[0;32m     30\u001b[0m     \u001b[39mreturn\u001b[39;00m table_name\n",
      "\u001b[1;31mIndexError\u001b[0m: list index out of range"
     ]
    }
   ],
   "source": [
    "prehook.get_table_name_from_csv('C:/Users/lenovo/Desktop/SE_Factory/PowerBI/Dataset-main\\\\Dim Customer.csv')"
   ]
  },
  {
   "cell_type": "code",
   "execution_count": 2,
   "metadata": {},
   "outputs": [],
   "source": [
    "db_session = database_handler.create_connection()"
   ]
  },
  {
   "cell_type": "code",
   "execution_count": 3,
   "metadata": {},
   "outputs": [
    {
     "name": "stderr",
     "output_type": "stream",
     "text": [
      "d:\\Workspace\\SE Factory\\ETL_Project_2\\database_handler.py:47: UserWarning: pandas only supports SQLAlchemy connectable (engine/connection) or database string URI or sqlite3 DBAPI2 connection. Other DBAPI2 objects are not tested. Please consider using SQLAlchemy.\n",
      "  return_dataframe = pd.read_sql_query(con= db_session, sql= file_executor)\n"
     ]
    }
   ],
   "source": [
    "# extract\n",
    "if db_session:\n",
    "    query_df = database_handler.return_data_as_df(db_session= db_session, file_executor= \"SELECT * FROM public.film;\", input_type= InputTypes.SQL)"
   ]
  },
  {
   "cell_type": "code",
   "execution_count": 12,
   "metadata": {},
   "outputs": [],
   "source": [
    "# transformation \n",
    "query_df['average_rental_duration'] = query_df.rental_duration.mean()\n",
    "query_df['is_greater_than_average'] = query_df['rental_duration'].apply(lambda x: x > query_df.rental_duration.mean())\n",
    "query_df.fillna('None')"
   ]
  },
  {
   "cell_type": "code",
   "execution_count": null,
   "metadata": {},
   "outputs": [],
   "source": [
    "# load\n"
   ]
  }
 ],
 "metadata": {
  "kernelspec": {
   "display_name": "sefactory_env",
   "language": "python",
   "name": "python3"
  },
  "language_info": {
   "codemirror_mode": {
    "name": "ipython",
    "version": 3
   },
   "file_extension": ".py",
   "mimetype": "text/x-python",
   "name": "python",
   "nbconvert_exporter": "python",
   "pygments_lexer": "ipython3",
   "version": "3.10.9"
  },
  "orig_nbformat": 4
 },
 "nbformat": 4,
 "nbformat_minor": 2
}
